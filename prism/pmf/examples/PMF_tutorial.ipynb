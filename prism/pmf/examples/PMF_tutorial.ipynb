{
 "cells": [
  {
   "cell_type": "markdown",
   "metadata": {},
   "source": [
    "# PRISM PMF Tutorial\n",
    "\n",
    "## Introduction to Protein-Ligand Binding Free Energy Calculations\n",
    "\n",
    "This tutorial demonstrates how to calculate protein-ligand binding free energies using the PRISM PMF module. The workflow includes:\n",
    "\n",
    "1. System preparation and file organization\n",
    "2. Steered Molecular Dynamics (SMD) simulation\n",
    "3. Umbrella sampling at multiple distances\n",
    "4. WHAM analysis for PMF calculation\n",
    "5. Results visualization and interpretation\n",
    "\n",
    "### Prerequisites\n",
    "\n",
    "- A completed PRISM MD system (from `prism.system().build()`)\n",
    "- GROMACS installed and configured\n",
    "- Python packages: numpy, matplotlib, scipy"
   ]
  },
  {
   "cell_type": "markdown",
   "metadata": {},
   "source": [
    "## 1. Setup and Path Configuration\n",
    "\n",
    "First, let's set up the environment and define our working paths."
   ]
  },
  {
   "cell_type": "markdown",
   "source": "## 1. PMF System Remodeling (Prerequisite)\n\nBefore PMF calculations, MD systems must be remodeled for PMF optimization. This creates a PMF-ready system with extended box and proper equilibration.\n\n### Why Remodeling is Required:\n\n1. **Box Extension**: PMF calculations need extended simulation box for ligand pulling\n2. **System Optimization**: Remodeled structure is optimized for PMF simulations\n3. **Equilibration**: Extended system needs equilibration to relax properly\n4. **File Preparation**: Creates proper file structure for PMF workflow",
   "metadata": {}
  },
  {
   "cell_type": "code",
   "source": "# First, let's remodel the MD system for PMF calculations\nimport subprocess\nimport sys\nfrom pathlib import Path\n\n# Define paths\ninput_system = \"./gromacssim\"  # Your original MD system\noutput_dir = \"./pmf_system\"    # Where to create PMF-ready system\n\nprint(\"=\"*60)\nprint(\"PMF SYSTEM REMODELING\")\nprint(\"=\"*60)\n\n# Method 1: Basic remodeling (creates GMX_PMF_SYSTEM)\nprint(\"\\nStep 1: Running PMF system remodeling...\")\n\nremodel_script = Path(\"prism/pmf/examples/pmf_remodel.py\")\ncmd = [\n    sys.executable, str(remodel_script),\n    \"--input\", input_system,\n    \"--output\", input_system,  # Create PMF system in same directory\n    \"--pulling-distance\", \"2.5\"\n]\n\nprint(f\"Running: {' '.join(cmd)}\")\nresult = subprocess.run(cmd, capture_output=True, text=True)\n\nif result.returncode == 0:\n    print(\"✓ PMF system remodeling completed successfully\")\n    print(f\"✓ GMX_PMF_SYSTEM created in: {input_system}\")\nelse:\n    print(\"✗ PMF system remodeling failed\")\n    print(\"STDOUT:\", result.stdout)\n    print(\"STDERR:\", result.stderr)",
   "metadata": {},
   "execution_count": null,
   "outputs": []
  },
  {
   "cell_type": "markdown",
   "source": "### Equilibration After Remodeling\n\nThe remodeled system requires equilibration to relax the extended box. This can be run locally or on a cluster.",
   "metadata": {}
  },
  {
   "cell_type": "code",
   "source": "# Check the generated PMF system structure\npmf_system_dir = Path(input_system) / \"GMX_PMF_SYSTEM\"\n\nprint(f\"PMF System Directory: {pmf_system_dir}\")\n\nif pmf_system_dir.exists():\n    print(\"\\nGenerated files:\")\n    for file in pmf_system_dir.iterdir():\n        if file.is_file():\n            size = file.stat().st_size\n            print(f\"  {file.name}: {size:,} bytes\")\n\n    # Check equilibration scripts\n    slurm_script = pmf_system_dir / \"run_equilibration_slurm.sh\"\n    local_script = pmf_system_dir / \"run_equilibration_local.sh\"\n\n    print(f\"\\nEquilibration scripts:\")\n    print(f\"  Cluster (Slurm): {'✓' if slurm_script.exists() else '✗'} {slurm_script}\")\n    print(f\"  Local execution: {'✓' if local_script.exists() else '✗'} {local_script}\")\n\n    print(f\"\\nNext steps for equilibration:\")\n    print(f\"  1. cd {pmf_system_dir}\")\n    print(f\"  2. sbatch run_equilibration_slurm.sh  # (for cluster)\")\n    print(f\"     OR bash run_equilibration_local.sh  # (for local)\")\n    print(f\"  3. Monitor completion: ls equilibration/npt/npt.gro\")\nelse:\n    print(\"ERROR: PMF system directory not found\")\n    print(\"Please ensure remodeling completed successfully\")",
   "metadata": {},
   "execution_count": null,
   "outputs": []
  },
  {
   "cell_type": "markdown",
   "source": "### Alternative: Test Remodeling with Validation\n\nUse the comprehensive test script to validate the remodeling process.",
   "metadata": {}
  },
  {
   "cell_type": "code",
   "source": "## 2. Setup and Path Configuration\n\nNow let's set up the environment for PMF calculations using the remodeled system.",
   "metadata": {},
   "execution_count": null,
   "outputs": []
  },
  {
   "cell_type": "code",
   "execution_count": null,
   "metadata": {},
   "outputs": [],
   "source": "import sys\nfrom pathlib import Path\nimport os\n\n# Add PRISM to Python path if needed\nprism_root = Path.cwd().parent.parent.parent\nsys.path.insert(0, str(prism_root))\n\n# Import PRISM PMF module\nimport prism.pmf as pmf\n\nprint(\"PRISM PMF module loaded successfully\")\nprint(f\"Working directory: {Path.cwd()}\")\nprint(f\"PRISM root: {prism_root}\")"
  },
  {
   "cell_type": "markdown",
   "metadata": {},
   "source": "## 3. Define Input and Output Paths\n\nSpecify the paths for your **remodeled** PMF system and where to save PMF results.\n\n### Updated Path Structure (After Remodeling):\n\n```\nInput (Remodeled PMF System):\n./gromacssim/\n└── GMX_PMF_SYSTEM/              # ← Use this for PMF calculations\n    ├── solv_ions.gro            # Remodeled structure  \n    ├── topol.top                # System topology\n    ├── equilibration/           # Equilibration results\n    │   └── npt.gro       # Final equilibrated structure\n    └── PMF_SYSTEM_INFO.txt     # Remodeling metadata\n\nOutput (PMF Results):\n./pmf_results/\n├── analysis/                    # Final PMF analysis\n│   ├── pmf.xvg                 # PMF data\n│   ├── pmf_curve.png           # PMF plot\n│   └── pmf_analysis_report.txt\n└── pmf_config_used.yaml        # Configuration record\n\nWorking Files (created alongside PMF system):\n./gromacssim/GMX_PMF_SYSTEM/\n├── pmf_smd/                    # SMD simulation files\n└── pmf_umbrella/               # Umbrella sampling windows\n```"
  },
  {
   "cell_type": "code",
   "execution_count": null,
   "metadata": {},
   "outputs": [],
   "source": "# Define paths for PMF calculations\n# IMPORTANT: Use the remodeled GMX_PMF_SYSTEM directory\npmf_system_dir = \"./gromacssim/GMX_PMF_SYSTEM\"  # Remodeled PMF system\noutput_dir = \"./pmf_results\"                     # Where to save final results\n\n# Verify PMF system directory exists (after remodeling)\npmf_path = Path(pmf_system_dir)\nif not pmf_path.exists():\n    print(f\"ERROR: PMF system directory not found: {pmf_system_dir}\")\n    print(\"Please run PMF system remodeling first (see cells above)\")\n    print(\"Expected structure: ./gromacssim/GMX_PMF_SYSTEM/\")\nelse:\n    print(f\"✓ PMF system found: {pmf_path.absolute()}\")\n    print(f\"✓ Output directory: {Path(output_dir).absolute()}\")\n    \n    # Check required files in PMF system\n    required_files = [\n        pmf_path / \"solv_ions.gro\",\n        pmf_path / \"topol.top\",\n        pmf_path / \"PMF_SYSTEM_INFO.txt\"\n    ]\n    \n    print(\"\\nChecking PMF system files:\")\n    for file in required_files:\n        exists = file.exists()\n        status = \"FOUND\" if exists else \"MISSING\"\n        print(f\"  [{status}] {file.relative_to(pmf_path)}\")\n    \n    # Check equilibration status\n    equilibration_complete = (pmf_path / \"equilibration\" / \"npt.gro\").exists()\n    eq_status = \"COMPLETED\" if equilibration_complete else \"PENDING\"\n    print(f\"  [STATUS] Equilibration: {eq_status}\")\n    \n    if not equilibration_complete:\n        print(\"\\n⚠️  Equilibration not completed yet.\")\n        print(\"   Run equilibration before PMF calculations:\")\n        print(f\"   cd {pmf_path}\")\n        print(\"   sbatch run_equilibration_slurm.sh\")\n    else:\n        print(\"\\n✅ System ready for PMF calculations!\")"
  },
  {
   "cell_type": "markdown",
   "metadata": {},
   "source": "## 4. Quick Start: One-Line PMF Calculation\n\nThe simplest way to calculate binding free energy using the remodeled system. This runs the complete workflow automatically."
  },
  {
   "cell_type": "code",
   "execution_count": null,
   "metadata": {},
   "outputs": [],
   "source": "# Quick start: complete PMF workflow using remodeled system\n# Note: This will take several hours to complete\n\nresults = pmf.run_pmf_workflow(\n    md_system_dir=pmf_system_dir,  # Use remodeled PMF system\n    output_dir=output_dir\n)\n\nprint(\"\\n\" + \"=\"*60)\nprint(\"PMF CALCULATION COMPLETE\")\nprint(\"=\"*60)\nprint(f\"Binding Energy: {results['binding_energy']['value']:.2f} kcal/mol\")\nprint(f\"Standard Error: {results['binding_energy']['error']:.2f} kcal/mol\")\nprint(f\"\\nResults saved in: {output_dir}\")"
  },
  {
   "cell_type": "markdown",
   "metadata": {},
   "source": [
    "## 4. Standard Workflow: PMFSystem with Custom Parameters\n",
    "\n",
    "For better control, use PMFSystem with custom pulling distance based on your ligand size.\n",
    "\n",
    "### Choosing Pulling Distance:\n",
    "- Small ligands (MW < 300): 1.5-2.0 nm\n",
    "- Medium ligands (MW 300-500): 2.0-2.5 nm\n",
    "- Large ligands (MW > 500): 2.5-3.5 nm"
   ]
  },
  {
   "cell_type": "code",
   "execution_count": null,
   "metadata": {},
   "outputs": [],
   "source": [
    "# Create PMF system with custom pulling distance\n",
    "pulling_distance = 2.5  # nm - adjust based on your ligand size\n",
    "\n",
    "system = pmf.pmf_system(\n",
    "    system_dir=md_system_dir,\n",
    "    output_dir=output_dir,\n",
    "    pulling_distance=pulling_distance\n",
    ")\n",
    "\n",
    "print(f\"PMF system created\")\n",
    "print(f\"Pulling distance: {pulling_distance} nm\")\n",
    "print(f\"\\nSystem will be pulled along Z-axis\")\n",
    "print(f\"Total Z-extension: {2 * pulling_distance} nm\")"
   ]
  },
  {
   "cell_type": "markdown",
   "metadata": {},
   "source": [
    "### Check Workflow Status"
   ]
  },
  {
   "cell_type": "code",
   "execution_count": null,
   "metadata": {},
   "outputs": [],
   "source": [
    "# Check current workflow status\n",
    "status = system.get_status()\n",
    "\n",
    "print(\"Workflow Status:\")\n",
    "print(f\"  Current stage: {status['current_stage']}\")\n",
    "print(f\"  Next action: {status['next_action']}\")\n",
    "print(f\"  Completed steps: {status.get('completed_steps', [])}\")"
   ]
  },
  {
   "cell_type": "markdown",
   "metadata": {},
   "source": [
    "### Run Complete Workflow"
   ]
  },
  {
   "cell_type": "code",
   "execution_count": null,
   "metadata": {},
   "outputs": [],
   "source": [
    "# Run complete PMF workflow\n",
    "results = system.run(mode='auto')\n",
    "\n",
    "print(\"\\n\" + \"=\"*60)\n",
    "print(\"PMF CALCULATION RESULTS\")\n",
    "print(\"=\"*60)\n",
    "print(f\"Binding Free Energy: {results['binding_energy']['value']:.2f} kcal/mol\")\n",
    "print(f\"Standard Error: {results['binding_energy']['error']:.2f} kcal/mol\")\n",
    "print(f\"\\nOutput directory: {output_dir}\")"
   ]
  },
  {
   "cell_type": "markdown",
   "metadata": {},
   "source": [
    "## 5. Step-by-Step Workflow\n",
    "\n",
    "For manual control and intermediate checking, execute each stage separately.\n",
    "\n",
    "### Stage 1: Prepare SMD Simulation\n",
    "\n",
    "This stage:\n",
    "- Copies essential files from MD system\n",
    "- Preprocesses structure (remove PBC, center system)\n",
    "- Creates extended box for pulling\n",
    "- Generates SMD input files"
   ]
  },
  {
   "cell_type": "code",
   "execution_count": null,
   "metadata": {},
   "outputs": [],
   "source": [
    "# Initialize PMF system\n",
    "system = pmf.pmf_system(\n",
    "    system_dir=md_system_dir,\n",
    "    output_dir=output_dir,\n",
    "    pulling_distance=2.5\n",
    ")\n",
    "\n",
    "# Step 1: Prepare SMD simulation\n",
    "print(\"Stage 1: Preparing SMD simulation...\")\n",
    "smd_results = system.build(step='smd')\n",
    "\n",
    "print(\"\\nSMD Preparation Complete:\")\n",
    "print(f\"  SMD directory: {smd_results['smd_dir']}\")\n",
    "print(f\"  Input structure: {smd_results.get('input_structure', 'N/A')}\")\n",
    "print(f\"  Pull coordinate file: {smd_results.get('pullx_file', 'N/A')}\")\n",
    "print(f\"\\nTo run SMD manually:\")\n",
    "print(f\"  cd {smd_results['smd_dir']}\")\n",
    "print(f\"  bash run_smd.sh\")"
   ]
  },
  {
   "cell_type": "markdown",
   "metadata": {},
   "source": [
    "### Stage 2: Analyze SMD Results\n",
    "\n",
    "After SMD simulation completes, analyze the pulling trajectory."
   ]
  },
  {
   "cell_type": "code",
   "execution_count": null,
   "metadata": {},
   "outputs": [],
   "source": [
    "# Analyze SMD results (after SMD simulation completes)\n",
    "print(\"Analyzing SMD results...\")\n",
    "smd_analysis = system.analyze_smd()\n",
    "\n",
    "print(\"\\nSMD Analysis:\")\n",
    "print(f\"  Maximum force: {smd_analysis.get('max_force', 'N/A'):.2f} kJ/mol/nm\")\n",
    "print(f\"  Average force: {smd_analysis.get('avg_force', 'N/A'):.2f} kJ/mol/nm\")\n",
    "print(f\"  Total pulling distance: {smd_analysis.get('total_distance', 'N/A'):.2f} nm\")\n",
    "print(f\"\\nForce profile saved: {smd_analysis.get('force_plot', 'N/A')}\")"
   ]
  },
  {
   "cell_type": "markdown",
   "metadata": {},
   "source": [
    "### Stage 3: Prepare Umbrella Sampling\n",
    "\n",
    "This stage:\n",
    "- Analyzes SMD trajectory\n",
    "- Selects optimal umbrella sampling windows\n",
    "- Creates input files for each window\n",
    "- Generates parallel execution scripts\n",
    "\n",
    "### Window Selection Strategy:\n",
    "- Close distances (< 1.5 nm): 0.1 nm spacing\n",
    "- Far distances (> 1.5 nm): 0.2 nm spacing\n",
    "- Typical total windows: 20-40"
   ]
  },
  {
   "cell_type": "code",
   "execution_count": null,
   "metadata": {},
   "outputs": [],
   "source": [
    "# Step 2: Prepare umbrella sampling\n",
    "print(\"Stage 2: Preparing umbrella sampling...\")\n",
    "umbrella_results = system.build_umbrella_step()\n",
    "\n",
    "print(\"\\nUmbrella Sampling Setup:\")\n",
    "print(f\"  Umbrella directory: {umbrella_results['umbrella_dir']}\")\n",
    "print(f\"  Number of windows: {umbrella_results['num_windows']}\")\n",
    "print(f\"  Window spacing: adaptive (0.1-0.2 nm)\")\n",
    "print(f\"\\nWindow directories created:\")\n",
    "for i, window in enumerate(umbrella_results.get('windows', [])[:5]):\n",
    "    print(f\"    window_{i:03d}: {window:.2f} nm\")\n",
    "if umbrella_results['num_windows'] > 5:\n",
    "    print(f\"    ... and {umbrella_results['num_windows'] - 5} more windows\")\n",
    "\n",
    "print(f\"\\nTo run umbrella sampling:\")\n",
    "print(f\"  cd {umbrella_results['umbrella_dir']}\")\n",
    "print(f\"  bash run_all_umbrella.sh parallel   # Run windows in parallel\")\n",
    "print(f\"  bash run_all_umbrella.sh sequential # Run windows sequentially\")"
   ]
  },
  {
   "cell_type": "markdown",
   "metadata": {},
   "source": [
    "### Stage 4: WHAM Analysis and Visualization\n",
    "\n",
    "After umbrella sampling completes, perform WHAM analysis to calculate PMF.\n",
    "\n",
    "This stage:\n",
    "- Collects data from all umbrella windows\n",
    "- Performs WHAM analysis with bootstrap error estimation\n",
    "- Calculates binding free energy\n",
    "- Generates visualization plots"
   ]
  },
  {
   "cell_type": "code",
   "execution_count": null,
   "metadata": {},
   "outputs": [],
   "source": [
    "# Step 3: Perform WHAM analysis\n",
    "print(\"Stage 3: Performing WHAM analysis...\")\n",
    "analysis_results = system.build_analysis_step()\n",
    "\n",
    "print(\"\\n\" + \"=\"*60)\n",
    "print(\"WHAM ANALYSIS COMPLETE\")\n",
    "print(\"=\"*60)\n",
    "print(f\"Binding Free Energy: {analysis_results['binding_energy']['value']:.2f} kcal/mol\")\n",
    "print(f\"Standard Error: {analysis_results['binding_energy']['error']:.2f} kcal/mol\")\n",
    "\n",
    "print(f\"\\nAnalysis directory: {analysis_results['analysis_dir']}\")\n",
    "print(f\"\\nGenerated files:\")\n",
    "print(f\"  PMF data: {analysis_results.get('pmf_file', 'pmf.xvg')}\")\n",
    "print(f\"  Error data: {analysis_results.get('error_file', 'pmferror.xvg')}\")\n",
    "print(f\"  PMF plot: {analysis_results.get('pmf_plot', 'pmf_curve.png')}\")\n",
    "print(f\"  Full report: {analysis_results.get('report_file', 'pmf_analysis_report.txt')}\")"
   ]
  },
  {
   "cell_type": "markdown",
   "metadata": {},
   "source": [
    "## 6. Results Visualization and Analysis\n",
    "\n",
    "Load and visualize the PMF results."
   ]
  },
  {
   "cell_type": "code",
   "execution_count": null,
   "metadata": {},
   "outputs": [],
   "source": [
    "import numpy as np\n",
    "import matplotlib.pyplot as plt\n",
    "\n",
    "# Get detailed analysis\n",
    "pmf_analysis = system.analyze_pmf()\n",
    "\n",
    "# Extract data\n",
    "distances = pmf_analysis['pmf_data']['distances']  # nm\n",
    "pmf_values = pmf_analysis['pmf_data']['pmf']       # kcal/mol\n",
    "errors = pmf_analysis['pmf_data']['errors']        # kcal/mol\n",
    "\n",
    "# Plot PMF curve\n",
    "plt.figure(figsize=(10, 6))\n",
    "plt.plot(distances, pmf_values, 'b-', linewidth=2, label='PMF')\n",
    "plt.fill_between(distances, \n",
    "                 pmf_values - errors, \n",
    "                 pmf_values + errors, \n",
    "                 alpha=0.3, label='Error')\n",
    "plt.xlabel('Distance (nm)', fontsize=12)\n",
    "plt.ylabel('PMF (kcal/mol)', fontsize=12)\n",
    "plt.title('Potential of Mean Force', fontsize=14)\n",
    "plt.legend()\n",
    "plt.grid(True, alpha=0.3)\n",
    "plt.tight_layout()\n",
    "plt.show()\n",
    "\n",
    "print(\"\\nPMF Statistics:\")\n",
    "print(f\"  Minimum PMF: {np.min(pmf_values):.2f} kcal/mol at {distances[np.argmin(pmf_values)]:.2f} nm\")\n",
    "print(f\"  Maximum PMF: {np.max(pmf_values):.2f} kcal/mol at {distances[np.argmax(pmf_values)]:.2f} nm\")\n",
    "print(f\"  Binding energy: {pmf_analysis['binding_energy']['value']:.2f} kcal/mol\")"
   ]
  },
  {
   "cell_type": "markdown",
   "metadata": {},
   "source": [
    "### Quality Metrics\n",
    "\n",
    "Check the quality of PMF calculation."
   ]
  },
  {
   "cell_type": "code",
   "execution_count": null,
   "metadata": {},
   "outputs": [],
   "source": [
    "# Quality assessment\n",
    "quality = pmf_analysis.get('quality_metrics', {})\n",
    "\n",
    "print(\"PMF Quality Metrics:\")\n",
    "print(f\"  Convergence: {quality.get('convergence', 'N/A'):.3f}\")\n",
    "print(f\"  Window overlap: {quality.get('window_overlap', 'N/A'):.3f}\")\n",
    "print(f\"  Error/Signal ratio: {quality.get('error_ratio', 'N/A'):.3f}\")\n",
    "\n",
    "print(\"\\nQuality Assessment:\")\n",
    "convergence = quality.get('convergence', 0)\n",
    "if convergence > 0.95:\n",
    "    print(\"  Excellent convergence\")\n",
    "elif convergence > 0.90:\n",
    "    print(\"  Good convergence\")\n",
    "elif convergence > 0.80:\n",
    "    print(\"  Acceptable convergence\")\n",
    "else:\n",
    "    print(\"  Poor convergence - consider longer sampling\")\n",
    "\n",
    "overlap = quality.get('window_overlap', 0)\n",
    "if overlap > 0.15:\n",
    "    print(\"  Excellent window overlap\")\n",
    "elif overlap > 0.10:\n",
    "    print(\"  Good window overlap\")\n",
    "else:\n",
    "    print(\"  Poor window overlap - consider more windows\")"
   ]
  },
  {
   "cell_type": "markdown",
   "metadata": {},
   "source": "## 9. Summary and Best Practices\n\n### Complete PMF Workflow Summary:\n\n1. **System Remodeling** (Prerequisite):\n   - Use `pmf_remodel.py` to create PMF-optimized system\n   - Run equilibration to relax extended box\n   - Validate with `test_pmf_remodeling.py`\n\n2. **PMF Calculation**:\n   - Initialize with remodeled system (`GMX_PMF_SYSTEM`)\n   - Run workflow (auto or step-by-step)\n   - Analyze results and check quality metrics\n\n3. **Results Analysis**:\n   - Check convergence and window overlap\n   - Generate publication-quality plots\n   - Export data for further analysis\n\n### Path Management:\n\n- **Original MD**: `./gromacssim/GMX_PROLIG_MD/` (PRISM output)\n- **Remodeled System**: `./gromacssim/GMX_PMF_SYSTEM/` (PMF input)\n- **Working files**: Created alongside PMF system\n- **Final results**: User-specified output directory\n\n### Remodeling Best Practices:\n\n1. **Always remodel** MD systems before PMF calculations\n2. **Complete equilibration** before starting PMF workflow\n3. **Test first** with `test_pmf_remodeling.py`\n4. **Monitor equilibration** on cluster systems\n5. **Verify completion** with `equilibration/npt/npt.gro`\n\n### PMF Best Practices:\n\n1. **Pulling distance**: Choose based on ligand size (1.5-3.5 nm)\n2. **Quality check**: Ensure convergence > 0.9 and good window overlap\n3. **Error bars**: Keep errors < 1 kcal/mol for reliable results\n4. **Sampling time**: Increase if PMF curve is not smooth\n5. **Window spacing**: Use finer spacing in binding region\n\n### Configuration Options:\n\n- **Cluster execution**: Use `cluster_128.yaml` for your specific cluster\n- **Profile selection**: `quick`, `standard`, `extended`, `debug`\n- **Local vs Slurm**: Automatically generated scripts for both\n\n### Typical Timeline:\n\n- **Remodeling**: Minutes (file operations)\n- **Equilibration**: 2-12 hours (depending on system size)\n- **SMD (5 ns)**: 1-6 hours\n- **Umbrella sampling**: Several hours to days\n- **WHAM analysis**: Minutes to hours\n\n### Troubleshooting:\n\n**Remodeling Issues**:\n- Missing input files: Ensure PRISM MD completed successfully\n- Equilibration fails: Check GROMACS setup and cluster configuration\n\n**PMF Issues**:\n- High error: Increase umbrella sampling time\n- Non-smooth curve: Add more umbrella windows\n- No plateau: Increase pulling distance\n- Poor convergence: Longer equilibration time"
  },
  {
   "cell_type": "code",
   "execution_count": null,
   "metadata": {},
   "outputs": [],
   "source": [
    "# Export data to text file\n",
    "output_file = Path(output_dir) / \"pmf_data_export.txt\"\n",
    "\n",
    "data = np.column_stack([distances, pmf_values, errors])\n",
    "np.savetxt(\n",
    "    output_file,\n",
    "    data,\n",
    "    header=\"Distance(nm) PMF(kcal/mol) Error(kcal/mol)\",\n",
    "    fmt='%.6f'\n",
    ")\n",
    "\n",
    "print(f\"Data exported to: {output_file}\")\n",
    "print(f\"\\nFirst 5 rows:\")\n",
    "print(\"Distance(nm)  PMF(kcal/mol)  Error(kcal/mol)\")\n",
    "for i in range(min(5, len(distances))):\n",
    "    print(f\"{distances[i]:12.6f}  {pmf_values[i]:13.6f}  {errors[i]:15.6f}\")"
   ]
  },
  {
   "cell_type": "markdown",
   "metadata": {},
   "source": [
    "## 8. Custom Configuration\n",
    "\n",
    "Create custom configurations for different use cases."
   ]
  },
  {
   "cell_type": "code",
   "execution_count": null,
   "metadata": {},
   "outputs": [],
   "source": [
    "# Create configuration templates\n",
    "config_dir = Path(\"./pmf_configs\")\n",
    "config_dir.mkdir(exist_ok=True)\n",
    "\n",
    "# Fast configuration for testing\n",
    "fast_config = config_dir / \"fast_pmf_config.yaml\"\n",
    "pmf.create_pmf_config(str(fast_config), template=\"fast\")\n",
    "print(f\"Fast config created: {fast_config}\")\n",
    "\n",
    "# Accurate configuration for publication\n",
    "accurate_config = config_dir / \"accurate_pmf_config.yaml\"\n",
    "pmf.create_pmf_config(str(accurate_config), template=\"accurate\")\n",
    "print(f\"Accurate config created: {accurate_config}\")\n",
    "\n",
    "# Default configuration\n",
    "default_config = config_dir / \"default_pmf_config.yaml\"\n",
    "pmf.create_pmf_config(str(default_config), template=\"default\")\n",
    "print(f\"Default config created: {default_config}\")\n",
    "\n",
    "print(\"\\nConfiguration templates:\")\n",
    "print(\"  fast: Quick testing (2 ns SMD, 5 ns/window)\")\n",
    "print(\"  default: Standard production (5 ns SMD, 20 ns/window)\")\n",
    "print(\"  accurate: High accuracy (10 ns SMD, 50 ns/window)\")"
   ]
  },
  {
   "cell_type": "markdown",
   "metadata": {},
   "source": [
    "### Using Custom Configuration"
   ]
  },
  {
   "cell_type": "code",
   "execution_count": null,
   "metadata": {},
   "outputs": [],
   "source": [
    "# Use custom configuration\n",
    "system_custom = pmf.pmf_system(\n",
    "    system_dir=md_system_dir,\n",
    "    output_dir=\"./pmf_results_fast\",\n",
    "    config=str(fast_config),  # Use fast template\n",
    "    pulling_distance=2.0      # Override pulling distance\n",
    ")\n",
    "\n",
    "print(\"Custom PMF system created with fast configuration\")\n",
    "print(f\"Configuration file: {fast_config}\")\n",
    "print(f\"Output directory: ./pmf_results_fast\")\n",
    "\n",
    "# Export current configuration\n",
    "export_config = config_dir / \"my_current_config.yaml\"\n",
    "system_custom.export_config(str(export_config))\n",
    "print(f\"\\nCurrent configuration exported to: {export_config}\")"
   ]
  },
  {
   "cell_type": "markdown",
   "metadata": {},
   "source": [
    "## 9. Summary and Best Practices\n",
    "\n",
    "### Workflow Summary:\n",
    "\n",
    "1. **Prepare paths**: Define input MD system and output directories\n",
    "2. **Create PMF system**: Initialize with appropriate pulling distance\n",
    "3. **Run workflow**: Either automatic or step-by-step\n",
    "4. **Analyze results**: Check quality metrics and binding energy\n",
    "5. **Visualize**: Generate plots for publication\n",
    "\n",
    "### Path Management:\n",
    "\n",
    "- Input: MD system directory with `GMX_PROLIG_MD/`\n",
    "- Working files: Created alongside MD system (`pmf_smd/`, `pmf_umbrella/`)\n",
    "- Output: Final analysis results in specified output directory\n",
    "\n",
    "### Best Practices:\n",
    "\n",
    "1. **Pulling distance**: Choose based on ligand size (1.5-3.5 nm)\n",
    "2. **Quality check**: Ensure convergence > 0.9 and good window overlap\n",
    "3. **Error bars**: Keep errors < 1 kcal/mol for reliable results\n",
    "4. **Sampling time**: Increase if PMF curve is not smooth\n",
    "5. **Window spacing**: Use finer spacing in binding region\n",
    "\n",
    "### Typical Timeline:\n",
    "\n",
    "- SMD (5 ns): 1-6 hours\n",
    "- Umbrella sampling: Several hours to days\n",
    "- WHAM analysis: Minutes to hours\n",
    "\n",
    "### Troubleshooting:\n",
    "\n",
    "- High error: Increase umbrella sampling time\n",
    "- Non-smooth curve: Add more umbrella windows\n",
    "- No plateau: Increase pulling distance\n",
    "- Poor convergence: Longer equilibration time"
   ]
  },
  {
   "cell_type": "markdown",
   "metadata": {},
   "source": [
    "## 10. Additional Resources\n",
    "\n",
    "- Full documentation: `prism/pmf/README.md`\n",
    "- API reference: Check docstrings in `prism.pmf` module\n",
    "- More examples: `prism/pmf/examples/` directory\n",
    "- Configuration guide: `prism/configs/pmf_config.yaml`\n",
    "\n",
    "For technical issues, check log files in:\n",
    "- SMD logs: `{md_system_dir}/pmf_smd/smd.log`\n",
    "- Umbrella logs: `{md_system_dir}/pmf_umbrella/window_XXX/umbrella.log`\n",
    "- Analysis logs: `{output_dir}/analysis/wham.log`"
   ]
  }
 ],
 "metadata": {
  "kernelspec": {
   "display_name": "Python 3",
   "language": "python",
   "name": "python3"
  },
  "language_info": {
   "codemirror_mode": {
    "name": "ipython",
    "version": 3
   },
   "file_extension": ".py",
   "mimetype": "text/x-python",
   "name": "python",
   "nbconvert_exporter": "python",
   "pygments_lexer": "ipython3",
   "version": "3.11.0"
  }
 },
 "nbformat": 4,
 "nbformat_minor": 4
}